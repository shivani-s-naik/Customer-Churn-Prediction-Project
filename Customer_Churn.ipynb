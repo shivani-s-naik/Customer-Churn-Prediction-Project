{
 "cells": [
  {
   "cell_type": "code",
   "execution_count": 1,
   "id": "3f52ac19",
   "metadata": {},
   "outputs": [],
   "source": [
    "import pandas as pd\n",
    "import numpy as np\n",
    "import matplotlib.pyplot as plt\n",
    "%matplotlib inline\n",
    "import seaborn as sns"
   ]
  },
  {
   "cell_type": "code",
   "execution_count": 2,
   "id": "bb653d15",
   "metadata": {},
   "outputs": [],
   "source": [
    "df=pd.read_csv('train_PDjVQMB.csv')"
   ]
  },
  {
   "cell_type": "code",
   "execution_count": 3,
   "id": "a2ef394b",
   "metadata": {},
   "outputs": [
    {
     "name": "stdout",
     "output_type": "stream",
     "text": [
      "<class 'pandas.core.frame.DataFrame'>\n",
      "RangeIndex: 6650 entries, 0 to 6649\n",
      "Data columns (total 11 columns):\n",
      " #   Column              Non-Null Count  Dtype  \n",
      "---  ------              --------------  -----  \n",
      " 0   ID                  6650 non-null   object \n",
      " 1   Age                 6650 non-null   int64  \n",
      " 2   Gender              6650 non-null   object \n",
      " 3   Income              6650 non-null   object \n",
      " 4   Balance             6650 non-null   float64\n",
      " 5   Vintage             6650 non-null   int64  \n",
      " 6   Transaction_Status  6650 non-null   int64  \n",
      " 7   Product_Holdings    6650 non-null   object \n",
      " 8   Credit_Card         6650 non-null   int64  \n",
      " 9   Credit_Category     6650 non-null   object \n",
      " 10  Is_Churn            6650 non-null   int64  \n",
      "dtypes: float64(1), int64(5), object(5)\n",
      "memory usage: 571.6+ KB\n"
     ]
    }
   ],
   "source": [
    "df.info()"
   ]
  },
  {
   "cell_type": "code",
   "execution_count": 4,
   "id": "32cc528b",
   "metadata": {},
   "outputs": [
    {
     "data": {
      "text/plain": [
       "ID                    0\n",
       "Age                   0\n",
       "Gender                0\n",
       "Income                0\n",
       "Balance               0\n",
       "Vintage               0\n",
       "Transaction_Status    0\n",
       "Product_Holdings      0\n",
       "Credit_Card           0\n",
       "Credit_Category       0\n",
       "Is_Churn              0\n",
       "dtype: int64"
      ]
     },
     "execution_count": 4,
     "metadata": {},
     "output_type": "execute_result"
    }
   ],
   "source": [
    "df.isnull().sum()"
   ]
  },
  {
   "cell_type": "code",
   "execution_count": 5,
   "id": "4e1d8226",
   "metadata": {},
   "outputs": [
    {
     "data": {
      "text/plain": [
       "(6650, 11)"
      ]
     },
     "execution_count": 5,
     "metadata": {},
     "output_type": "execute_result"
    }
   ],
   "source": [
    "df.shape"
   ]
  },
  {
   "cell_type": "markdown",
   "id": "8e6e5802",
   "metadata": {},
   "source": [
    "#### Observation : There are 10 dependent variables, also there is no null values in data"
   ]
  },
  {
   "cell_type": "code",
   "execution_count": 6,
   "id": "7867f35d",
   "metadata": {},
   "outputs": [
    {
     "data": {
      "text/html": [
       "<div>\n",
       "<style scoped>\n",
       "    .dataframe tbody tr th:only-of-type {\n",
       "        vertical-align: middle;\n",
       "    }\n",
       "\n",
       "    .dataframe tbody tr th {\n",
       "        vertical-align: top;\n",
       "    }\n",
       "\n",
       "    .dataframe thead th {\n",
       "        text-align: right;\n",
       "    }\n",
       "</style>\n",
       "<table border=\"1\" class=\"dataframe\">\n",
       "  <thead>\n",
       "    <tr style=\"text-align: right;\">\n",
       "      <th></th>\n",
       "      <th>ID</th>\n",
       "      <th>Age</th>\n",
       "      <th>Gender</th>\n",
       "      <th>Income</th>\n",
       "      <th>Balance</th>\n",
       "      <th>Vintage</th>\n",
       "      <th>Transaction_Status</th>\n",
       "      <th>Product_Holdings</th>\n",
       "      <th>Credit_Card</th>\n",
       "      <th>Credit_Category</th>\n",
       "      <th>Is_Churn</th>\n",
       "    </tr>\n",
       "  </thead>\n",
       "  <tbody>\n",
       "    <tr>\n",
       "      <th>0</th>\n",
       "      <td>84e2fcc9</td>\n",
       "      <td>36</td>\n",
       "      <td>Female</td>\n",
       "      <td>5L - 10L</td>\n",
       "      <td>563266.44</td>\n",
       "      <td>4</td>\n",
       "      <td>0</td>\n",
       "      <td>1</td>\n",
       "      <td>0</td>\n",
       "      <td>Average</td>\n",
       "      <td>1</td>\n",
       "    </tr>\n",
       "    <tr>\n",
       "      <th>1</th>\n",
       "      <td>57fea15e</td>\n",
       "      <td>53</td>\n",
       "      <td>Female</td>\n",
       "      <td>Less than 5L</td>\n",
       "      <td>875572.11</td>\n",
       "      <td>2</td>\n",
       "      <td>1</td>\n",
       "      <td>1</td>\n",
       "      <td>1</td>\n",
       "      <td>Poor</td>\n",
       "      <td>0</td>\n",
       "    </tr>\n",
       "    <tr>\n",
       "      <th>2</th>\n",
       "      <td>8df34ef3</td>\n",
       "      <td>35</td>\n",
       "      <td>Female</td>\n",
       "      <td>More than 15L</td>\n",
       "      <td>701607.06</td>\n",
       "      <td>2</td>\n",
       "      <td>1</td>\n",
       "      <td>2</td>\n",
       "      <td>0</td>\n",
       "      <td>Poor</td>\n",
       "      <td>0</td>\n",
       "    </tr>\n",
       "    <tr>\n",
       "      <th>3</th>\n",
       "      <td>c5c0788b</td>\n",
       "      <td>43</td>\n",
       "      <td>Female</td>\n",
       "      <td>More than 15L</td>\n",
       "      <td>1393922.16</td>\n",
       "      <td>0</td>\n",
       "      <td>1</td>\n",
       "      <td>2</td>\n",
       "      <td>1</td>\n",
       "      <td>Poor</td>\n",
       "      <td>1</td>\n",
       "    </tr>\n",
       "    <tr>\n",
       "      <th>4</th>\n",
       "      <td>951d69c4</td>\n",
       "      <td>39</td>\n",
       "      <td>Female</td>\n",
       "      <td>More than 15L</td>\n",
       "      <td>893146.23</td>\n",
       "      <td>1</td>\n",
       "      <td>1</td>\n",
       "      <td>1</td>\n",
       "      <td>1</td>\n",
       "      <td>Good</td>\n",
       "      <td>1</td>\n",
       "    </tr>\n",
       "  </tbody>\n",
       "</table>\n",
       "</div>"
      ],
      "text/plain": [
       "         ID  Age  Gender         Income     Balance  Vintage  \\\n",
       "0  84e2fcc9   36  Female       5L - 10L   563266.44        4   \n",
       "1  57fea15e   53  Female   Less than 5L   875572.11        2   \n",
       "2  8df34ef3   35  Female  More than 15L   701607.06        2   \n",
       "3  c5c0788b   43  Female  More than 15L  1393922.16        0   \n",
       "4  951d69c4   39  Female  More than 15L   893146.23        1   \n",
       "\n",
       "   Transaction_Status Product_Holdings  Credit_Card Credit_Category  Is_Churn  \n",
       "0                   0                1            0         Average         1  \n",
       "1                   1                1            1            Poor         0  \n",
       "2                   1                2            0            Poor         0  \n",
       "3                   1                2            1            Poor         1  \n",
       "4                   1                1            1            Good         1  "
      ]
     },
     "execution_count": 6,
     "metadata": {},
     "output_type": "execute_result"
    }
   ],
   "source": [
    "df.head()"
   ]
  },
  {
   "cell_type": "code",
   "execution_count": 7,
   "id": "0eaa7782",
   "metadata": {},
   "outputs": [
    {
     "data": {
      "text/plain": [
       "10L - 15L        1885\n",
       "5L - 10L         1847\n",
       "Less than 5L     1573\n",
       "More than 15L    1345\n",
       "Name: Income, dtype: int64"
      ]
     },
     "execution_count": 7,
     "metadata": {},
     "output_type": "execute_result"
    }
   ],
   "source": [
    "df['Income'].value_counts()"
   ]
  },
  {
   "cell_type": "code",
   "execution_count": 8,
   "id": "a1840b07",
   "metadata": {},
   "outputs": [
    {
     "data": {
      "text/plain": [
       "1     3200\n",
       "2     3182\n",
       "3+     268\n",
       "Name: Product_Holdings, dtype: int64"
      ]
     },
     "execution_count": 8,
     "metadata": {},
     "output_type": "execute_result"
    }
   ],
   "source": [
    "df['Product_Holdings'].value_counts()"
   ]
  },
  {
   "cell_type": "code",
   "execution_count": 9,
   "id": "23fd4b14",
   "metadata": {},
   "outputs": [
    {
     "data": {
      "text/plain": [
       "Poor       3076\n",
       "Average    2043\n",
       "Good       1531\n",
       "Name: Credit_Category, dtype: int64"
      ]
     },
     "execution_count": 9,
     "metadata": {},
     "output_type": "execute_result"
    }
   ],
   "source": [
    "df['Credit_Category'].value_counts()"
   ]
  },
  {
   "cell_type": "code",
   "execution_count": 10,
   "id": "2764a215",
   "metadata": {},
   "outputs": [
    {
     "data": {
      "text/plain": [
       "6650"
      ]
     },
     "execution_count": 10,
     "metadata": {},
     "output_type": "execute_result"
    }
   ],
   "source": [
    "df.ID.nunique()"
   ]
  },
  {
   "cell_type": "markdown",
   "id": "141f9f9c",
   "metadata": {},
   "source": [
    "### EDA"
   ]
  },
  {
   "cell_type": "code",
   "execution_count": 11,
   "id": "632f0e15",
   "metadata": {},
   "outputs": [
    {
     "data": {
      "text/plain": [
       "([<matplotlib.patches.Wedge at 0x220e1d24850>,\n",
       "  <matplotlib.patches.Wedge at 0x220e1d24f70>],\n",
       " [Text(-0.7469610920697658, -0.8412336934133957, '0'),\n",
       "  Text(0.7469610526887737, 0.8412337283811672, '1')],\n",
       " [Text(-0.514573196759172, -0.5795165443514504, '76.9%'),\n",
       "  Text(0.5145731696300441, 0.5795165684403595, '23.1%')])"
      ]
     },
     "execution_count": 11,
     "metadata": {},
     "output_type": "execute_result"
    },
    {
     "data": {
      "image/png": "[encoded data removed]",
      "text/plain": [
       "<Figure size 432x288 with 1 Axes>"
      ]
     },
     "metadata": {},
     "output_type": "display_data"
    }
   ],
   "source": [
    "plt.pie(df['Is_Churn'].value_counts(),labels=df['Is_Churn'].value_counts().index,\n",
    "        colors = ['#66b3ff','#ff9999'],\n",
    "        startangle=90,\n",
    "        autopct='%1.1f%%',\n",
    "        pctdistance=0.75,\n",
    "        explode = (0.025,0.025))"
   ]
  },
  {
   "cell_type": "markdown",
   "id": "2464f4f4",
   "metadata": {},
   "source": [
    "#### Observation : From above we can see that, dependent variable is imbalanced. Percentage of customer IS_churn and Not_churn is imbalanced"
   ]
  },
  {
   "cell_type": "markdown",
   "id": "660107e7",
   "metadata": {},
   "source": [
    "EDA to perform :\n",
    "1. check IS_Churn with differentiation of Gender\n",
    "2. check IS_Churn with differentiation of Credit category\n",
    "3. check IS_Churn with differentiation of Income\n",
    "4. check IS_Churn with differentiation of Vintage\n",
    "5. check IS_Churn with differentiation of Transcation Status\n",
    "6. check IS_Churn with differentiation of Credit_Card\n",
    "7. check IS_Churn with differentiation of Product category\n",
    "8. Is there any relation between gender and balance\n",
    "9. is there any relation between income, balance and Is_Churn\n"
   ]
  },
  {
   "cell_type": "code",
   "execution_count": 12,
   "id": "904a1518",
   "metadata": {},
   "outputs": [
    {
     "data": {
      "text/plain": [
       "<AxesSubplot:xlabel='Is_Churn', ylabel='count'>"
      ]
     },
     "execution_count": 12,
     "metadata": {},
     "output_type": "execute_result"
    },
    {
     "data": {
      "image/png": "[encoded data removed]",
      "text/plain": [
       "<Figure size 432x288 with 1 Axes>"
      ]
     },
     "metadata": {
      "needs_background": "light"
     },
     "output_type": "display_data"
    }
   ],
   "source": [
    "sns.countplot(x=df['Is_Churn'],data=df,hue='Gender',)"
   ]
  },
  {
   "cell_type": "code",
   "execution_count": 13,
   "id": "bdfde7dd",
   "metadata": {},
   "outputs": [
    {
     "data": {
      "text/plain": [
       "<AxesSubplot:xlabel='Is_Churn', ylabel='count'>"
      ]
     },
     "execution_count": 13,
     "metadata": {},
     "output_type": "execute_result"
    },
    {
     "data": {
      "image/png": "[encoded data removed]",
      "text/plain": [
       "<Figure size 432x288 with 1 Axes>"
      ]
     },
     "metadata": {
      "needs_background": "light"
     },
     "output_type": "display_data"
    }
   ],
   "source": [
    "sns.countplot(x=df['Is_Churn'],data=df,hue='Credit_Category')"
   ]
  },
  {
   "cell_type": "code",
   "execution_count": 14,
   "id": "40016de5",
   "metadata": {},
   "outputs": [
    {
     "data": {
      "text/plain": [
       "<AxesSubplot:xlabel='Is_Churn', ylabel='count'>"
      ]
     },
     "execution_count": 14,
     "metadata": {},
     "output_type": "execute_result"
    },
    {
     "data": {
      "image/png": "[encoded data removed]",
      "text/plain": [
       "<Figure size 432x288 with 1 Axes>"
      ]
     },
     "metadata": {
      "needs_background": "light"
     },
     "output_type": "display_data"
    }
   ],
   "source": [
    "sns.countplot(x=df['Is_Churn'],data=df,hue='Income')"
   ]
  },
  {
   "cell_type": "code",
   "execution_count": 15,
   "id": "899f3373",
   "metadata": {},
   "outputs": [
    {
     "data": {
      "text/plain": [
       "<AxesSubplot:xlabel='Is_Churn', ylabel='count'>"
      ]
     },
     "execution_count": 15,
     "metadata": {},
     "output_type": "execute_result"
    },
    {
     "data": {
      "image/png": "[encoded data removed]",
      "text/plain": [
       "<Figure size 432x288 with 1 Axes>"
      ]
     },
     "metadata": {
      "needs_background": "light"
     },
     "output_type": "display_data"
    }
   ],
   "source": [
    "sns.countplot(x=df['Is_Churn'],data=df,hue='Vintage')"
   ]
  },
  {
   "cell_type": "code",
   "execution_count": 16,
   "id": "b40c9bcd",
   "metadata": {},
   "outputs": [
    {
     "data": {
      "text/plain": [
       "<AxesSubplot:xlabel='Is_Churn', ylabel='count'>"
      ]
     },
     "execution_count": 16,
     "metadata": {},
     "output_type": "execute_result"
    },
    {
     "data": {
      "image/png": "[encoded data removed]",
      "text/plain": [
       "<Figure size 432x288 with 1 Axes>"
      ]
     },
     "metadata": {
      "needs_background": "light"
     },
     "output_type": "display_data"
    }
   ],
   "source": [
    "sns.countplot(x=df['Is_Churn'],data=df,hue='Transaction_Status')"
   ]
  },
  {
   "cell_type": "code",
   "execution_count": 17,
   "id": "3c794dff",
   "metadata": {},
   "outputs": [
    {
     "data": {
      "text/plain": [
       "<AxesSubplot:xlabel='Is_Churn', ylabel='count'>"
      ]
     },
     "execution_count": 17,
     "metadata": {},
     "output_type": "execute_result"
    },
    {
     "data": {
      "image/png": "[encoded data removed]",
      "text/plain": [
       "<Figure size 432x288 with 1 Axes>"
      ]
     },
     "metadata": {
      "needs_background": "light"
     },
     "output_type": "display_data"
    }
   ],
   "source": [
    "sns.countplot(x=df['Is_Churn'],data=df,hue='Credit_Card')"
   ]
  },
  {
   "cell_type": "code",
   "execution_count": 18,
   "id": "d9044d58",
   "metadata": {},
   "outputs": [
    {
     "data": {
      "text/plain": [
       "<AxesSubplot:xlabel='Is_Churn', ylabel='count'>"
      ]
     },
     "execution_count": 18,
     "metadata": {},
     "output_type": "execute_result"
    },
    {
     "data": {
      "image/png": "[encoded data removed]",
      "text/plain": [
       "<Figure size 432x288 with 1 Axes>"
      ]
     },
     "metadata": {
      "needs_background": "light"
     },
     "output_type": "display_data"
    }
   ],
   "source": [
    "sns.countplot(x=df['Is_Churn'],data=df,hue='Product_Holdings')"
   ]
  },
  {
   "cell_type": "code",
   "execution_count": 19,
   "id": "8a663041",
   "metadata": {},
   "outputs": [
    {
     "data": {
      "text/plain": [
       "<AxesSubplot:xlabel='Income', ylabel='Balance'>"
      ]
     },
     "execution_count": 19,
     "metadata": {},
     "output_type": "execute_result"
    },
    {
     "data": {
      "image/png": "[encoded data removed]",
      "text/plain": [
       "<Figure size 432x288 with 1 Axes>"
      ]
     },
     "metadata": {
      "needs_background": "light"
     },
     "output_type": "display_data"
    }
   ],
   "source": [
    "sns.boxplot(x='Income', y='Balance',data=df)\n",
    "#plt.tick_params()\n",
    "#plt.ticklabel_format(style='plain')"
   ]
  },
  {
   "cell_type": "code",
   "execution_count": null,
   "id": "b0007317",
   "metadata": {},
   "outputs": [],
   "source": []
  },
  {
   "cell_type": "code",
   "execution_count": 20,
   "id": "f5413e42",
   "metadata": {},
   "outputs": [
    {
     "data": {
      "image/png": "[encoded data removed]",
      "text/plain": [
       "<Figure size 411.125x360 with 1 Axes>"
      ]
     },
     "metadata": {
      "needs_background": "light"
     },
     "output_type": "display_data"
    }
   ],
   "source": [
    "sns.displot(data=df,x='Balance',hue='Is_Churn')\n",
    "plt.ticklabel_format(style='plain')"
   ]
  },
  {
   "cell_type": "code",
   "execution_count": 21,
   "id": "ab96fd4f",
   "metadata": {},
   "outputs": [
    {
     "data": {
      "text/plain": [
       "<seaborn.axisgrid.FacetGrid at 0x220e31d6700>"
      ]
     },
     "execution_count": 21,
     "metadata": {},
     "output_type": "execute_result"
    },
    {
     "data": {
      "image/png": "[encoded data removed]",
      "text/plain": [
       "<Figure size 411.125x360 with 1 Axes>"
      ]
     },
     "metadata": {
      "needs_background": "light"
     },
     "output_type": "display_data"
    }
   ],
   "source": [
    "sns.displot(data=df,x='Age',hue='Is_Churn')"
   ]
  },
  {
   "cell_type": "code",
   "execution_count": 22,
   "id": "23c80962",
   "metadata": {},
   "outputs": [
    {
     "data": {
      "text/plain": [
       "6650"
      ]
     },
     "execution_count": 22,
     "metadata": {},
     "output_type": "execute_result"
    }
   ],
   "source": [
    "df['ID'].nunique()"
   ]
  },
  {
   "cell_type": "code",
   "execution_count": 23,
   "id": "a91114e0",
   "metadata": {},
   "outputs": [
    {
     "data": {
      "text/html": [
       "<div>\n",
       "<style scoped>\n",
       "    .dataframe tbody tr th:only-of-type {\n",
       "        vertical-align: middle;\n",
       "    }\n",
       "\n",
       "    .dataframe tbody tr th {\n",
       "        vertical-align: top;\n",
       "    }\n",
       "\n",
       "    .dataframe thead th {\n",
       "        text-align: right;\n",
       "    }\n",
       "</style>\n",
       "<table border=\"1\" class=\"dataframe\">\n",
       "  <thead>\n",
       "    <tr style=\"text-align: right;\">\n",
       "      <th></th>\n",
       "      <th>Age</th>\n",
       "      <th>Balance</th>\n",
       "      <th>Vintage</th>\n",
       "      <th>Transaction_Status</th>\n",
       "      <th>Credit_Card</th>\n",
       "      <th>Is_Churn</th>\n",
       "    </tr>\n",
       "    <tr>\n",
       "      <th>Income</th>\n",
       "      <th></th>\n",
       "      <th></th>\n",
       "      <th></th>\n",
       "      <th></th>\n",
       "      <th></th>\n",
       "      <th></th>\n",
       "    </tr>\n",
       "  </thead>\n",
       "  <tbody>\n",
       "    <tr>\n",
       "      <th>10L - 15L</th>\n",
       "      <td>20013</td>\n",
       "      <td>4.051669e+08</td>\n",
       "      <td>1037</td>\n",
       "      <td>202</td>\n",
       "      <td>294</td>\n",
       "      <td>444</td>\n",
       "    </tr>\n",
       "    <tr>\n",
       "      <th>5L - 10L</th>\n",
       "      <td>18266</td>\n",
       "      <td>3.420910e+08</td>\n",
       "      <td>948</td>\n",
       "      <td>170</td>\n",
       "      <td>278</td>\n",
       "      <td>412</td>\n",
       "    </tr>\n",
       "    <tr>\n",
       "      <th>Less than 5L</th>\n",
       "      <td>15862</td>\n",
       "      <td>2.905778e+08</td>\n",
       "      <td>783</td>\n",
       "      <td>151</td>\n",
       "      <td>225</td>\n",
       "      <td>354</td>\n",
       "    </tr>\n",
       "    <tr>\n",
       "      <th>More than 15L</th>\n",
       "      <td>14623</td>\n",
       "      <td>2.803369e+08</td>\n",
       "      <td>773</td>\n",
       "      <td>148</td>\n",
       "      <td>223</td>\n",
       "      <td>327</td>\n",
       "    </tr>\n",
       "  </tbody>\n",
       "</table>\n",
       "</div>"
      ],
      "text/plain": [
       "                 Age       Balance  Vintage  Transaction_Status  Credit_Card  \\\n",
       "Income                                                                         \n",
       "10L - 15L      20013  4.051669e+08     1037                 202          294   \n",
       "5L - 10L       18266  3.420910e+08      948                 170          278   \n",
       "Less than 5L   15862  2.905778e+08      783                 151          225   \n",
       "More than 15L  14623  2.803369e+08      773                 148          223   \n",
       "\n",
       "               Is_Churn  \n",
       "Income                   \n",
       "10L - 15L           444  \n",
       "5L - 10L            412  \n",
       "Less than 5L        354  \n",
       "More than 15L       327  "
      ]
     },
     "execution_count": 23,
     "metadata": {},
     "output_type": "execute_result"
    }
   ],
   "source": [
    "df[df['Is_Churn']>0].groupby(['Income']).sum('Balance')"
   ]
  },
  {
   "cell_type": "markdown",
   "id": "633b5db2",
   "metadata": {},
   "source": [
    "#### Observation : Max number of customers having income range between 10L to 15L are churn out"
   ]
  },
  {
   "cell_type": "code",
   "execution_count": 24,
   "id": "cdad69ef",
   "metadata": {},
   "outputs": [
    {
     "data": {
      "text/html": [
       "<div>\n",
       "<style scoped>\n",
       "    .dataframe tbody tr th:only-of-type {\n",
       "        vertical-align: middle;\n",
       "    }\n",
       "\n",
       "    .dataframe tbody tr th {\n",
       "        vertical-align: top;\n",
       "    }\n",
       "\n",
       "    .dataframe thead th {\n",
       "        text-align: right;\n",
       "    }\n",
       "</style>\n",
       "<table border=\"1\" class=\"dataframe\">\n",
       "  <thead>\n",
       "    <tr style=\"text-align: right;\">\n",
       "      <th></th>\n",
       "      <th>Age</th>\n",
       "      <th>Balance</th>\n",
       "      <th>Vintage</th>\n",
       "      <th>Transaction_Status</th>\n",
       "      <th>Credit_Card</th>\n",
       "      <th>Is_Churn</th>\n",
       "    </tr>\n",
       "    <tr>\n",
       "      <th>Income</th>\n",
       "      <th></th>\n",
       "      <th></th>\n",
       "      <th></th>\n",
       "      <th></th>\n",
       "      <th></th>\n",
       "      <th></th>\n",
       "    </tr>\n",
       "  </thead>\n",
       "  <tbody>\n",
       "    <tr>\n",
       "      <th>10L - 15L</th>\n",
       "      <td>71</td>\n",
       "      <td>2424060.81</td>\n",
       "      <td>5</td>\n",
       "      <td>1</td>\n",
       "      <td>1</td>\n",
       "      <td>1</td>\n",
       "    </tr>\n",
       "    <tr>\n",
       "      <th>5L - 10L</th>\n",
       "      <td>72</td>\n",
       "      <td>2381976.81</td>\n",
       "      <td>5</td>\n",
       "      <td>1</td>\n",
       "      <td>1</td>\n",
       "      <td>1</td>\n",
       "    </tr>\n",
       "    <tr>\n",
       "      <th>Less than 5L</th>\n",
       "      <td>71</td>\n",
       "      <td>2361625.47</td>\n",
       "      <td>5</td>\n",
       "      <td>1</td>\n",
       "      <td>1</td>\n",
       "      <td>1</td>\n",
       "    </tr>\n",
       "    <tr>\n",
       "      <th>More than 15L</th>\n",
       "      <td>71</td>\n",
       "      <td>2402199.81</td>\n",
       "      <td>5</td>\n",
       "      <td>1</td>\n",
       "      <td>1</td>\n",
       "      <td>1</td>\n",
       "    </tr>\n",
       "  </tbody>\n",
       "</table>\n",
       "</div>"
      ],
      "text/plain": [
       "               Age     Balance  Vintage  Transaction_Status  Credit_Card  \\\n",
       "Income                                                                     \n",
       "10L - 15L       71  2424060.81        5                   1            1   \n",
       "5L - 10L        72  2381976.81        5                   1            1   \n",
       "Less than 5L    71  2361625.47        5                   1            1   \n",
       "More than 15L   71  2402199.81        5                   1            1   \n",
       "\n",
       "               Is_Churn  \n",
       "Income                   \n",
       "10L - 15L             1  \n",
       "5L - 10L              1  \n",
       "Less than 5L          1  \n",
       "More than 15L         1  "
      ]
     },
     "execution_count": 24,
     "metadata": {},
     "output_type": "execute_result"
    }
   ],
   "source": [
    "df[df['Is_Churn']>0].groupby(['Income']).max('Balance')"
   ]
  },
  {
   "cell_type": "code",
   "execution_count": 25,
   "id": "0f882dad",
   "metadata": {},
   "outputs": [
    {
     "data": {
      "text/html": [
       "<div>\n",
       "<style scoped>\n",
       "    .dataframe tbody tr th:only-of-type {\n",
       "        vertical-align: middle;\n",
       "    }\n",
       "\n",
       "    .dataframe tbody tr th {\n",
       "        vertical-align: top;\n",
       "    }\n",
       "\n",
       "    .dataframe thead th {\n",
       "        text-align: right;\n",
       "    }\n",
       "</style>\n",
       "<table border=\"1\" class=\"dataframe\">\n",
       "  <thead>\n",
       "    <tr style=\"text-align: right;\">\n",
       "      <th></th>\n",
       "      <th>Age</th>\n",
       "      <th>Balance</th>\n",
       "      <th>Vintage</th>\n",
       "      <th>Transaction_Status</th>\n",
       "      <th>Credit_Card</th>\n",
       "      <th>Is_Churn</th>\n",
       "    </tr>\n",
       "    <tr>\n",
       "      <th>Income</th>\n",
       "      <th></th>\n",
       "      <th></th>\n",
       "      <th></th>\n",
       "      <th></th>\n",
       "      <th></th>\n",
       "      <th></th>\n",
       "    </tr>\n",
       "  </thead>\n",
       "  <tbody>\n",
       "    <tr>\n",
       "      <th>10L - 15L</th>\n",
       "      <td>22</td>\n",
       "      <td>10998.0</td>\n",
       "      <td>0</td>\n",
       "      <td>0</td>\n",
       "      <td>0</td>\n",
       "      <td>1</td>\n",
       "    </tr>\n",
       "    <tr>\n",
       "      <th>5L - 10L</th>\n",
       "      <td>22</td>\n",
       "      <td>1017.0</td>\n",
       "      <td>0</td>\n",
       "      <td>0</td>\n",
       "      <td>0</td>\n",
       "      <td>1</td>\n",
       "    </tr>\n",
       "    <tr>\n",
       "      <th>Less than 5L</th>\n",
       "      <td>23</td>\n",
       "      <td>9252.0</td>\n",
       "      <td>0</td>\n",
       "      <td>0</td>\n",
       "      <td>0</td>\n",
       "      <td>1</td>\n",
       "    </tr>\n",
       "    <tr>\n",
       "      <th>More than 15L</th>\n",
       "      <td>23</td>\n",
       "      <td>8001.0</td>\n",
       "      <td>0</td>\n",
       "      <td>0</td>\n",
       "      <td>0</td>\n",
       "      <td>1</td>\n",
       "    </tr>\n",
       "  </tbody>\n",
       "</table>\n",
       "</div>"
      ],
      "text/plain": [
       "               Age  Balance  Vintage  Transaction_Status  Credit_Card  \\\n",
       "Income                                                                  \n",
       "10L - 15L       22  10998.0        0                   0            0   \n",
       "5L - 10L        22   1017.0        0                   0            0   \n",
       "Less than 5L    23   9252.0        0                   0            0   \n",
       "More than 15L   23   8001.0        0                   0            0   \n",
       "\n",
       "               Is_Churn  \n",
       "Income                   \n",
       "10L - 15L             1  \n",
       "5L - 10L              1  \n",
       "Less than 5L          1  \n",
       "More than 15L         1  "
      ]
     },
     "execution_count": 25,
     "metadata": {},
     "output_type": "execute_result"
    }
   ],
   "source": [
    "df[df['Is_Churn']>0].groupby(['Income']).min('Balance')"
   ]
  },
  {
   "cell_type": "code",
   "execution_count": 26,
   "id": "ffabd387",
   "metadata": {},
   "outputs": [
    {
     "data": {
      "text/html": [
       "<div>\n",
       "<style scoped>\n",
       "    .dataframe tbody tr th:only-of-type {\n",
       "        vertical-align: middle;\n",
       "    }\n",
       "\n",
       "    .dataframe tbody tr th {\n",
       "        vertical-align: top;\n",
       "    }\n",
       "\n",
       "    .dataframe thead th {\n",
       "        text-align: right;\n",
       "    }\n",
       "</style>\n",
       "<table border=\"1\" class=\"dataframe\">\n",
       "  <thead>\n",
       "    <tr style=\"text-align: right;\">\n",
       "      <th></th>\n",
       "      <th>Age</th>\n",
       "      <th>Balance</th>\n",
       "      <th>Vintage</th>\n",
       "      <th>Transaction_Status</th>\n",
       "      <th>Credit_Card</th>\n",
       "      <th>Is_Churn</th>\n",
       "    </tr>\n",
       "    <tr>\n",
       "      <th>Income</th>\n",
       "      <th></th>\n",
       "      <th></th>\n",
       "      <th></th>\n",
       "      <th></th>\n",
       "      <th></th>\n",
       "      <th></th>\n",
       "    </tr>\n",
       "  </thead>\n",
       "  <tbody>\n",
       "    <tr>\n",
       "      <th>10L - 15L</th>\n",
       "      <td>72</td>\n",
       "      <td>2375352.81</td>\n",
       "      <td>5</td>\n",
       "      <td>1</td>\n",
       "      <td>1</td>\n",
       "      <td>0</td>\n",
       "    </tr>\n",
       "    <tr>\n",
       "      <th>5L - 10L</th>\n",
       "      <td>71</td>\n",
       "      <td>2436615.81</td>\n",
       "      <td>5</td>\n",
       "      <td>1</td>\n",
       "      <td>1</td>\n",
       "      <td>0</td>\n",
       "    </tr>\n",
       "    <tr>\n",
       "      <th>Less than 5L</th>\n",
       "      <td>71</td>\n",
       "      <td>2421909.81</td>\n",
       "      <td>5</td>\n",
       "      <td>1</td>\n",
       "      <td>1</td>\n",
       "      <td>0</td>\n",
       "    </tr>\n",
       "    <tr>\n",
       "      <th>More than 15L</th>\n",
       "      <td>71</td>\n",
       "      <td>2436435.81</td>\n",
       "      <td>5</td>\n",
       "      <td>1</td>\n",
       "      <td>1</td>\n",
       "      <td>0</td>\n",
       "    </tr>\n",
       "  </tbody>\n",
       "</table>\n",
       "</div>"
      ],
      "text/plain": [
       "               Age     Balance  Vintage  Transaction_Status  Credit_Card  \\\n",
       "Income                                                                     \n",
       "10L - 15L       72  2375352.81        5                   1            1   \n",
       "5L - 10L        71  2436615.81        5                   1            1   \n",
       "Less than 5L    71  2421909.81        5                   1            1   \n",
       "More than 15L   71  2436435.81        5                   1            1   \n",
       "\n",
       "               Is_Churn  \n",
       "Income                   \n",
       "10L - 15L             0  \n",
       "5L - 10L              0  \n",
       "Less than 5L          0  \n",
       "More than 15L         0  "
      ]
     },
     "execution_count": 26,
     "metadata": {},
     "output_type": "execute_result"
    }
   ],
   "source": [
    "df[df['Is_Churn']<1].groupby(['Income']).max('Balance')"
   ]
  },
  {
   "cell_type": "code",
   "execution_count": 27,
   "id": "f9463f7a",
   "metadata": {},
   "outputs": [
    {
     "data": {
      "text/html": [
       "<div>\n",
       "<style scoped>\n",
       "    .dataframe tbody tr th:only-of-type {\n",
       "        vertical-align: middle;\n",
       "    }\n",
       "\n",
       "    .dataframe tbody tr th {\n",
       "        vertical-align: top;\n",
       "    }\n",
       "\n",
       "    .dataframe thead th {\n",
       "        text-align: right;\n",
       "    }\n",
       "</style>\n",
       "<table border=\"1\" class=\"dataframe\">\n",
       "  <thead>\n",
       "    <tr style=\"text-align: right;\">\n",
       "      <th></th>\n",
       "      <th>Age</th>\n",
       "      <th>Balance</th>\n",
       "      <th>Vintage</th>\n",
       "      <th>Transaction_Status</th>\n",
       "      <th>Credit_Card</th>\n",
       "      <th>Is_Churn</th>\n",
       "    </tr>\n",
       "    <tr>\n",
       "      <th>Income</th>\n",
       "      <th></th>\n",
       "      <th></th>\n",
       "      <th></th>\n",
       "      <th></th>\n",
       "      <th></th>\n",
       "      <th></th>\n",
       "    </tr>\n",
       "  </thead>\n",
       "  <tbody>\n",
       "    <tr>\n",
       "      <th>10L - 15L</th>\n",
       "      <td>23</td>\n",
       "      <td>63.0</td>\n",
       "      <td>0</td>\n",
       "      <td>0</td>\n",
       "      <td>0</td>\n",
       "      <td>0</td>\n",
       "    </tr>\n",
       "    <tr>\n",
       "      <th>5L - 10L</th>\n",
       "      <td>21</td>\n",
       "      <td>333.0</td>\n",
       "      <td>0</td>\n",
       "      <td>0</td>\n",
       "      <td>0</td>\n",
       "      <td>0</td>\n",
       "    </tr>\n",
       "    <tr>\n",
       "      <th>Less than 5L</th>\n",
       "      <td>22</td>\n",
       "      <td>711.0</td>\n",
       "      <td>0</td>\n",
       "      <td>0</td>\n",
       "      <td>0</td>\n",
       "      <td>0</td>\n",
       "    </tr>\n",
       "    <tr>\n",
       "      <th>More than 15L</th>\n",
       "      <td>21</td>\n",
       "      <td>369.0</td>\n",
       "      <td>0</td>\n",
       "      <td>0</td>\n",
       "      <td>0</td>\n",
       "      <td>0</td>\n",
       "    </tr>\n",
       "  </tbody>\n",
       "</table>\n",
       "</div>"
      ],
      "text/plain": [
       "               Age  Balance  Vintage  Transaction_Status  Credit_Card  \\\n",
       "Income                                                                  \n",
       "10L - 15L       23     63.0        0                   0            0   \n",
       "5L - 10L        21    333.0        0                   0            0   \n",
       "Less than 5L    22    711.0        0                   0            0   \n",
       "More than 15L   21    369.0        0                   0            0   \n",
       "\n",
       "               Is_Churn  \n",
       "Income                   \n",
       "10L - 15L             0  \n",
       "5L - 10L              0  \n",
       "Less than 5L          0  \n",
       "More than 15L         0  "
      ]
     },
     "execution_count": 27,
     "metadata": {},
     "output_type": "execute_result"
    }
   ],
   "source": [
    "df[df['Is_Churn']<1].groupby(['Income']).min('Balance')"
   ]
  },
  {
   "cell_type": "markdown",
   "id": "d3d2c37b",
   "metadata": {},
   "source": [
    "#### Observation : Minimum balance of customer who are churn is : greater than 1000"
   ]
  },
  {
   "cell_type": "code",
   "execution_count": 28,
   "id": "e42a5a22",
   "metadata": {},
   "outputs": [
    {
     "data": {
      "text/html": [
       "<div>\n",
       "<style scoped>\n",
       "    .dataframe tbody tr th:only-of-type {\n",
       "        vertical-align: middle;\n",
       "    }\n",
       "\n",
       "    .dataframe tbody tr th {\n",
       "        vertical-align: top;\n",
       "    }\n",
       "\n",
       "    .dataframe thead th {\n",
       "        text-align: right;\n",
       "    }\n",
       "</style>\n",
       "<table border=\"1\" class=\"dataframe\">\n",
       "  <thead>\n",
       "    <tr style=\"text-align: right;\">\n",
       "      <th></th>\n",
       "      <th>ID</th>\n",
       "      <th>Age</th>\n",
       "      <th>Gender</th>\n",
       "      <th>Income</th>\n",
       "      <th>Balance</th>\n",
       "      <th>Vintage</th>\n",
       "      <th>Transaction_Status</th>\n",
       "      <th>Product_Holdings</th>\n",
       "      <th>Credit_Category</th>\n",
       "      <th>Is_Churn</th>\n",
       "    </tr>\n",
       "    <tr>\n",
       "      <th>Credit_Card</th>\n",
       "      <th></th>\n",
       "      <th></th>\n",
       "      <th></th>\n",
       "      <th></th>\n",
       "      <th></th>\n",
       "      <th></th>\n",
       "      <th></th>\n",
       "      <th></th>\n",
       "      <th></th>\n",
       "      <th></th>\n",
       "    </tr>\n",
       "  </thead>\n",
       "  <tbody>\n",
       "    <tr>\n",
       "      <th>0</th>\n",
       "      <td>517</td>\n",
       "      <td>517</td>\n",
       "      <td>517</td>\n",
       "      <td>517</td>\n",
       "      <td>517</td>\n",
       "      <td>517</td>\n",
       "      <td>517</td>\n",
       "      <td>517</td>\n",
       "      <td>517</td>\n",
       "      <td>517</td>\n",
       "    </tr>\n",
       "    <tr>\n",
       "      <th>1</th>\n",
       "      <td>1020</td>\n",
       "      <td>1020</td>\n",
       "      <td>1020</td>\n",
       "      <td>1020</td>\n",
       "      <td>1020</td>\n",
       "      <td>1020</td>\n",
       "      <td>1020</td>\n",
       "      <td>1020</td>\n",
       "      <td>1020</td>\n",
       "      <td>1020</td>\n",
       "    </tr>\n",
       "  </tbody>\n",
       "</table>\n",
       "</div>"
      ],
      "text/plain": [
       "               ID   Age  Gender  Income  Balance  Vintage  Transaction_Status  \\\n",
       "Credit_Card                                                                     \n",
       "0             517   517     517     517      517      517                 517   \n",
       "1            1020  1020    1020    1020     1020     1020                1020   \n",
       "\n",
       "             Product_Holdings  Credit_Category  Is_Churn  \n",
       "Credit_Card                                               \n",
       "0                         517              517       517  \n",
       "1                        1020             1020      1020  "
      ]
     },
     "execution_count": 28,
     "metadata": {},
     "output_type": "execute_result"
    }
   ],
   "source": [
    "df[df['Is_Churn']>0].groupby(['Credit_Card']).count()"
   ]
  },
  {
   "cell_type": "code",
   "execution_count": 29,
   "id": "20e26054",
   "metadata": {},
   "outputs": [
    {
     "data": {
      "text/html": [
       "<div>\n",
       "<style scoped>\n",
       "    .dataframe tbody tr th:only-of-type {\n",
       "        vertical-align: middle;\n",
       "    }\n",
       "\n",
       "    .dataframe tbody tr th {\n",
       "        vertical-align: top;\n",
       "    }\n",
       "\n",
       "    .dataframe thead th {\n",
       "        text-align: right;\n",
       "    }\n",
       "</style>\n",
       "<table border=\"1\" class=\"dataframe\">\n",
       "  <thead>\n",
       "    <tr style=\"text-align: right;\">\n",
       "      <th></th>\n",
       "      <th>ID</th>\n",
       "      <th>Age</th>\n",
       "      <th>Gender</th>\n",
       "      <th>Income</th>\n",
       "      <th>Balance</th>\n",
       "      <th>Vintage</th>\n",
       "      <th>Transaction_Status</th>\n",
       "      <th>Product_Holdings</th>\n",
       "      <th>Credit_Category</th>\n",
       "      <th>Is_Churn</th>\n",
       "    </tr>\n",
       "    <tr>\n",
       "      <th>Credit_Card</th>\n",
       "      <th></th>\n",
       "      <th></th>\n",
       "      <th></th>\n",
       "      <th></th>\n",
       "      <th></th>\n",
       "      <th></th>\n",
       "      <th></th>\n",
       "      <th></th>\n",
       "      <th></th>\n",
       "      <th></th>\n",
       "    </tr>\n",
       "  </thead>\n",
       "  <tbody>\n",
       "    <tr>\n",
       "      <th>0</th>\n",
       "      <td>1715</td>\n",
       "      <td>1715</td>\n",
       "      <td>1715</td>\n",
       "      <td>1715</td>\n",
       "      <td>1715</td>\n",
       "      <td>1715</td>\n",
       "      <td>1715</td>\n",
       "      <td>1715</td>\n",
       "      <td>1715</td>\n",
       "      <td>1715</td>\n",
       "    </tr>\n",
       "    <tr>\n",
       "      <th>1</th>\n",
       "      <td>3398</td>\n",
       "      <td>3398</td>\n",
       "      <td>3398</td>\n",
       "      <td>3398</td>\n",
       "      <td>3398</td>\n",
       "      <td>3398</td>\n",
       "      <td>3398</td>\n",
       "      <td>3398</td>\n",
       "      <td>3398</td>\n",
       "      <td>3398</td>\n",
       "    </tr>\n",
       "  </tbody>\n",
       "</table>\n",
       "</div>"
      ],
      "text/plain": [
       "               ID   Age  Gender  Income  Balance  Vintage  Transaction_Status  \\\n",
       "Credit_Card                                                                     \n",
       "0            1715  1715    1715    1715     1715     1715                1715   \n",
       "1            3398  3398    3398    3398     3398     3398                3398   \n",
       "\n",
       "             Product_Holdings  Credit_Category  Is_Churn  \n",
       "Credit_Card                                               \n",
       "0                        1715             1715      1715  \n",
       "1                        3398             3398      3398  "
      ]
     },
     "execution_count": 29,
     "metadata": {},
     "output_type": "execute_result"
    }
   ],
   "source": [
    "df[df['Is_Churn']==0].groupby(['Credit_Card']).count()"
   ]
  },
  {
   "cell_type": "code",
   "execution_count": 30,
   "id": "965c8d94",
   "metadata": {},
   "outputs": [
    {
     "data": {
      "text/plain": [
       "3    339\n",
       "1    328\n",
       "4    321\n",
       "2    276\n",
       "0    201\n",
       "5     72\n",
       "Name: Vintage, dtype: int64"
      ]
     },
     "execution_count": 30,
     "metadata": {},
     "output_type": "execute_result"
    }
   ],
   "source": [
    "df[df['Is_Churn']==1]['Vintage'].value_counts()"
   ]
  },
  {
   "cell_type": "code",
   "execution_count": 31,
   "id": "01aedebe",
   "metadata": {},
   "outputs": [
    {
     "data": {
      "text/plain": [
       "3    1066\n",
       "2    1052\n",
       "1    1026\n",
       "4     975\n",
       "0     755\n",
       "5     239\n",
       "Name: Vintage, dtype: int64"
      ]
     },
     "execution_count": 31,
     "metadata": {},
     "output_type": "execute_result"
    }
   ],
   "source": [
    "df[df['Is_Churn']==0]['Vintage'].value_counts()"
   ]
  },
  {
   "cell_type": "code",
   "execution_count": 32,
   "id": "b45ab085",
   "metadata": {},
   "outputs": [
    {
     "data": {
      "text/plain": [
       "<AxesSubplot:xlabel='count', ylabel='Vintage'>"
      ]
     },
     "execution_count": 32,
     "metadata": {},
     "output_type": "execute_result"
    },
    {
     "data": {
      "image/png": "[encoded data removed]",
      "text/plain": [
       "<Figure size 1080x504 with 1 Axes>"
      ]
     },
     "metadata": {
      "needs_background": "light"
     },
     "output_type": "display_data"
    }
   ],
   "source": [
    "plt.figure(figsize=(15,7))\n",
    "sns.countplot(y=df['Vintage'],hue='Is_Churn',data=df,palette='coolwarm')"
   ]
  },
  {
   "cell_type": "markdown",
   "id": "1acf0958",
   "metadata": {},
   "source": [
    "#### Observation:  for Income, Product_Holdings, Credit_Category will apply label encoding as we can apply ordinal mapping as well"
   ]
  },
  {
   "cell_type": "code",
   "execution_count": 33,
   "id": "a7bb32f5",
   "metadata": {},
   "outputs": [],
   "source": [
    "df['Gender']=df['Gender'].map({'Female':1,'Male':0})"
   ]
  },
  {
   "cell_type": "code",
   "execution_count": 34,
   "id": "87ce65d4",
   "metadata": {},
   "outputs": [],
   "source": [
    " df['Income']=df['Income'].map({'Less than 5L':1,'5L - 10L':2,'10L - 15L':3,'More than 15L':4})"
   ]
  },
  {
   "cell_type": "code",
   "execution_count": 35,
   "id": "751c4f8d",
   "metadata": {},
   "outputs": [],
   "source": [
    "df['Product_Holdings']=df['Product_Holdings'].map({'1':1,'2':2,'3+':3})"
   ]
  },
  {
   "cell_type": "code",
   "execution_count": 36,
   "id": "38302753",
   "metadata": {},
   "outputs": [],
   "source": [
    "df['Credit_Category']=df['Credit_Category'].map({'Poor':1,'Average':2,'Good':3})"
   ]
  },
  {
   "cell_type": "code",
   "execution_count": 37,
   "id": "63721e71",
   "metadata": {},
   "outputs": [],
   "source": [
    "from sklearn.preprocessing import LabelEncoder\n",
    "le=LabelEncoder()"
   ]
  },
  {
   "cell_type": "code",
   "execution_count": 38,
   "id": "3fad2790",
   "metadata": {},
   "outputs": [
    {
     "data": {
      "text/plain": [
       "LabelEncoder()"
      ]
     },
     "execution_count": 38,
     "metadata": {},
     "output_type": "execute_result"
    }
   ],
   "source": [
    "le.fit(df['ID'])"
   ]
  },
  {
   "cell_type": "code",
   "execution_count": 39,
   "id": "8088a47d",
   "metadata": {},
   "outputs": [],
   "source": [
    "df['ID']=le.transform(df['ID'])"
   ]
  },
  {
   "cell_type": "markdown",
   "id": "72cc3fd7",
   "metadata": {},
   "source": [
    "#### We transfrom all values to integer, model understandable values"
   ]
  },
  {
   "cell_type": "code",
   "execution_count": 40,
   "id": "27a9e588",
   "metadata": {},
   "outputs": [
    {
     "data": {
      "text/plain": [
       "<AxesSubplot:>"
      ]
     },
     "execution_count": 40,
     "metadata": {},
     "output_type": "execute_result"
    },
    {
     "data": {
      "image/png": "[encoded data removed]",
      "text/plain": [
       "<Figure size 432x288 with 2 Axes>"
      ]
     },
     "metadata": {
      "needs_background": "light"
     },
     "output_type": "display_data"
    }
   ],
   "source": [
    "sns.heatmap(df.corr(),cmap='viridis')"
   ]
  },
  {
   "cell_type": "code",
   "execution_count": 41,
   "id": "54e380fa",
   "metadata": {},
   "outputs": [
    {
     "data": {
      "text/plain": [
       "<AxesSubplot:xlabel='Income', ylabel='Is_Churn'>"
      ]
     },
     "execution_count": 41,
     "metadata": {},
     "output_type": "execute_result"
    },
    {
     "data": {
      "image/png": "[encoded data removed]",
      "text/plain": [
       "<Figure size 432x288 with 1 Axes>"
      ]
     },
     "metadata": {
      "needs_background": "light"
     },
     "output_type": "display_data"
    }
   ],
   "source": [
    "sns.barplot(x='Income',y='Is_Churn',data=df,hue='Gender')"
   ]
  },
  {
   "cell_type": "code",
   "execution_count": 42,
   "id": "12f048b5",
   "metadata": {},
   "outputs": [],
   "source": [
    " from imblearn.over_sampling import RandomOverSampler"
   ]
  },
  {
   "cell_type": "code",
   "execution_count": 43,
   "id": "41c6e755",
   "metadata": {},
   "outputs": [],
   "source": [
    "os=RandomOverSampler()"
   ]
  },
  {
   "cell_type": "code",
   "execution_count": 44,
   "id": "5180203d",
   "metadata": {},
   "outputs": [],
   "source": [
    "X=df.iloc[:,:-1]\n",
    "y=df.iloc[:,-1]"
   ]
  },
  {
   "cell_type": "code",
   "execution_count": 45,
   "id": "ea475b5a",
   "metadata": {},
   "outputs": [],
   "source": [
    "X=df.drop('Is_Churn',axis=1)\n",
    "y=df['Is_Churn']"
   ]
  },
  {
   "cell_type": "markdown",
   "id": "6aa14ae6",
   "metadata": {},
   "source": [
    "#### From ExtraTree Classifer, we learn that Gender and Transaction History are less correlated, so drop the these 2 features"
   ]
  },
  {
   "cell_type": "code",
   "execution_count": 46,
   "id": "209bb748",
   "metadata": {},
   "outputs": [],
   "source": [
    "X.drop(['Gender','Transaction_Status'],axis=1,inplace=True)"
   ]
  },
  {
   "cell_type": "code",
   "execution_count": 47,
   "id": "f6d6486e",
   "metadata": {},
   "outputs": [
    {
     "data": {
      "text/html": [
       "<div>\n",
       "<style scoped>\n",
       "    .dataframe tbody tr th:only-of-type {\n",
       "        vertical-align: middle;\n",
       "    }\n",
       "\n",
       "    .dataframe tbody tr th {\n",
       "        vertical-align: top;\n",
       "    }\n",
       "\n",
       "    .dataframe thead th {\n",
       "        text-align: right;\n",
       "    }\n",
       "</style>\n",
       "<table border=\"1\" class=\"dataframe\">\n",
       "  <thead>\n",
       "    <tr style=\"text-align: right;\">\n",
       "      <th></th>\n",
       "      <th>ID</th>\n",
       "      <th>Age</th>\n",
       "      <th>Income</th>\n",
       "      <th>Balance</th>\n",
       "      <th>Vintage</th>\n",
       "      <th>Product_Holdings</th>\n",
       "      <th>Credit_Card</th>\n",
       "      <th>Credit_Category</th>\n",
       "    </tr>\n",
       "  </thead>\n",
       "  <tbody>\n",
       "    <tr>\n",
       "      <th>0</th>\n",
       "      <td>3444</td>\n",
       "      <td>36</td>\n",
       "      <td>2</td>\n",
       "      <td>563266.44</td>\n",
       "      <td>4</td>\n",
       "      <td>1</td>\n",
       "      <td>0</td>\n",
       "      <td>2</td>\n",
       "    </tr>\n",
       "    <tr>\n",
       "      <th>1</th>\n",
       "      <td>2246</td>\n",
       "      <td>53</td>\n",
       "      <td>1</td>\n",
       "      <td>875572.11</td>\n",
       "      <td>2</td>\n",
       "      <td>1</td>\n",
       "      <td>1</td>\n",
       "      <td>1</td>\n",
       "    </tr>\n",
       "    <tr>\n",
       "      <th>2</th>\n",
       "      <td>3691</td>\n",
       "      <td>35</td>\n",
       "      <td>4</td>\n",
       "      <td>701607.06</td>\n",
       "      <td>2</td>\n",
       "      <td>2</td>\n",
       "      <td>0</td>\n",
       "      <td>1</td>\n",
       "    </tr>\n",
       "    <tr>\n",
       "      <th>3</th>\n",
       "      <td>5094</td>\n",
       "      <td>43</td>\n",
       "      <td>4</td>\n",
       "      <td>1393922.16</td>\n",
       "      <td>0</td>\n",
       "      <td>2</td>\n",
       "      <td>1</td>\n",
       "      <td>1</td>\n",
       "    </tr>\n",
       "    <tr>\n",
       "      <th>4</th>\n",
       "      <td>3884</td>\n",
       "      <td>39</td>\n",
       "      <td>4</td>\n",
       "      <td>893146.23</td>\n",
       "      <td>1</td>\n",
       "      <td>1</td>\n",
       "      <td>1</td>\n",
       "      <td>3</td>\n",
       "    </tr>\n",
       "    <tr>\n",
       "      <th>...</th>\n",
       "      <td>...</td>\n",
       "      <td>...</td>\n",
       "      <td>...</td>\n",
       "      <td>...</td>\n",
       "      <td>...</td>\n",
       "      <td>...</td>\n",
       "      <td>...</td>\n",
       "      <td>...</td>\n",
       "    </tr>\n",
       "    <tr>\n",
       "      <th>6645</th>\n",
       "      <td>4373</td>\n",
       "      <td>61</td>\n",
       "      <td>2</td>\n",
       "      <td>1354526.19</td>\n",
       "      <td>4</td>\n",
       "      <td>2</td>\n",
       "      <td>1</td>\n",
       "      <td>1</td>\n",
       "    </tr>\n",
       "    <tr>\n",
       "      <th>6646</th>\n",
       "      <td>543</td>\n",
       "      <td>42</td>\n",
       "      <td>2</td>\n",
       "      <td>596286.54</td>\n",
       "      <td>3</td>\n",
       "      <td>2</td>\n",
       "      <td>1</td>\n",
       "      <td>2</td>\n",
       "    </tr>\n",
       "    <tr>\n",
       "      <th>6647</th>\n",
       "      <td>5481</td>\n",
       "      <td>29</td>\n",
       "      <td>1</td>\n",
       "      <td>979298.19</td>\n",
       "      <td>2</td>\n",
       "      <td>2</td>\n",
       "      <td>0</td>\n",
       "      <td>1</td>\n",
       "    </tr>\n",
       "    <tr>\n",
       "      <th>6648</th>\n",
       "      <td>2255</td>\n",
       "      <td>66</td>\n",
       "      <td>3</td>\n",
       "      <td>395233.65</td>\n",
       "      <td>3</td>\n",
       "      <td>2</td>\n",
       "      <td>1</td>\n",
       "      <td>1</td>\n",
       "    </tr>\n",
       "    <tr>\n",
       "      <th>6649</th>\n",
       "      <td>2234</td>\n",
       "      <td>37</td>\n",
       "      <td>4</td>\n",
       "      <td>826947.27</td>\n",
       "      <td>1</td>\n",
       "      <td>2</td>\n",
       "      <td>0</td>\n",
       "      <td>3</td>\n",
       "    </tr>\n",
       "  </tbody>\n",
       "</table>\n",
       "<p>6650 rows × 8 columns</p>\n",
       "</div>"
      ],
      "text/plain": [
       "        ID  Age  Income     Balance  Vintage  Product_Holdings  Credit_Card  \\\n",
       "0     3444   36       2   563266.44        4                 1            0   \n",
       "1     2246   53       1   875572.11        2                 1            1   \n",
       "2     3691   35       4   701607.06        2                 2            0   \n",
       "3     5094   43       4  1393922.16        0                 2            1   \n",
       "4     3884   39       4   893146.23        1                 1            1   \n",
       "...    ...  ...     ...         ...      ...               ...          ...   \n",
       "6645  4373   61       2  1354526.19        4                 2            1   \n",
       "6646   543   42       2   596286.54        3                 2            1   \n",
       "6647  5481   29       1   979298.19        2                 2            0   \n",
       "6648  2255   66       3   395233.65        3                 2            1   \n",
       "6649  2234   37       4   826947.27        1                 2            0   \n",
       "\n",
       "      Credit_Category  \n",
       "0                   2  \n",
       "1                   1  \n",
       "2                   1  \n",
       "3                   1  \n",
       "4                   3  \n",
       "...               ...  \n",
       "6645                1  \n",
       "6646                2  \n",
       "6647                1  \n",
       "6648                1  \n",
       "6649                3  \n",
       "\n",
       "[6650 rows x 8 columns]"
      ]
     },
     "execution_count": 47,
     "metadata": {},
     "output_type": "execute_result"
    }
   ],
   "source": [
    "X"
   ]
  },
  {
   "cell_type": "code",
   "execution_count": 48,
   "id": "7e0c8441",
   "metadata": {},
   "outputs": [
    {
     "data": {
      "text/plain": [
       "0       1\n",
       "1       0\n",
       "2       0\n",
       "3       1\n",
       "4       1\n",
       "       ..\n",
       "6645    1\n",
       "6646    0\n",
       "6647    0\n",
       "6648    1\n",
       "6649    0\n",
       "Name: Is_Churn, Length: 6650, dtype: int64"
      ]
     },
     "execution_count": 48,
     "metadata": {},
     "output_type": "execute_result"
    }
   ],
   "source": [
    "y"
   ]
  },
  {
   "cell_type": "code",
   "execution_count": 49,
   "id": "81182d2b",
   "metadata": {},
   "outputs": [],
   "source": [
    "X_train_res, y_train_res = os.fit_sample(X, y)"
   ]
  },
  {
   "cell_type": "code",
   "execution_count": 50,
   "id": "95d44ac6",
   "metadata": {},
   "outputs": [
    {
     "data": {
      "text/plain": [
       "0    5113\n",
       "1    5113\n",
       "Name: Is_Churn, dtype: int64"
      ]
     },
     "execution_count": 50,
     "metadata": {},
     "output_type": "execute_result"
    }
   ],
   "source": [
    "y_train_res.value_counts()"
   ]
  },
  {
   "cell_type": "code",
   "execution_count": 53,
   "id": "0361982a",
   "metadata": {},
   "outputs": [],
   "source": [
    "from sklearn.model_selection import train_test_split"
   ]
  },
  {
   "cell_type": "code",
   "execution_count": 54,
   "id": "5d4c0a18",
   "metadata": {},
   "outputs": [],
   "source": [
    "X_train, X_test, y_train, y_test = train_test_split(X_train_res, y_train_res, test_size=0.33, random_state=42)"
   ]
  },
  {
   "cell_type": "code",
   "execution_count": 57,
   "id": "ac2e0aa0",
   "metadata": {},
   "outputs": [],
   "source": [
    "from sklearn.linear_model import LogisticRegression,SGDClassifier\n",
    "from sklearn.neighbors import KNeighborsClassifier\n",
    "from sklearn.tree import DecisionTreeClassifier\n",
    "from sklearn.ensemble import RandomForestClassifier\n",
    "from sklearn.naive_bayes import GaussianNB,BernoulliNB,CategoricalNB,ComplementNB,MultinomialNB"
   ]
  },
  {
   "cell_type": "code",
   "execution_count": 58,
   "id": "78158813",
   "metadata": {},
   "outputs": [
    {
     "data": {
      "text/plain": [
       "ExtraTreesClassifier()"
      ]
     },
     "execution_count": 58,
     "metadata": {},
     "output_type": "execute_result"
    }
   ],
   "source": [
    "from sklearn.ensemble import ExtraTreesClassifier\n",
    "selection = ExtraTreesClassifier()\n",
    "selection.fit(X_train, y_train)"
   ]
  },
  {
   "cell_type": "code",
   "execution_count": 59,
   "id": "45237f82",
   "metadata": {},
   "outputs": [
    {
     "name": "stdout",
     "output_type": "stream",
     "text": [
      "[0.22574444 0.23982032 0.08439042 0.22795667 0.11148349 0.03852427\n",
      " 0.02685927 0.04522112]\n"
     ]
    }
   ],
   "source": [
    "print(selection.feature_importances_)"
   ]
  },
  {
   "cell_type": "code",
   "execution_count": 60,
   "id": "ef98d10c",
   "metadata": {},
   "outputs": [
    {
     "data": {
      "image/png": "[encoded data removed]",
      "text/plain": [
       "<Figure size 864x576 with 1 Axes>"
      ]
     },
     "metadata": {
      "needs_background": "light"
     },
     "output_type": "display_data"
    }
   ],
   "source": [
    "plt.figure(figsize = (12,8))\n",
    "feat_importances = pd.Series(selection.feature_importances_, index=X.columns)\n",
    "feat_importances.nlargest(20).plot(kind='barh')\n",
    "plt.show()"
   ]
  },
  {
   "cell_type": "code",
   "execution_count": null,
   "id": "b6af2059",
   "metadata": {},
   "outputs": [],
   "source": []
  },
  {
   "cell_type": "code",
   "execution_count": 61,
   "id": "1f3ea24a",
   "metadata": {},
   "outputs": [],
   "source": [
    "error_rate=[]\n",
    "for i in range(1,20):\n",
    "    knn=KNeighborsClassifier(n_neighbors=i)\n",
    "    knn.fit(X_train,y_train)\n",
    "    ypredd=knn.predict(X_test)\n",
    "    error_rate.append(np.mean(y_test!=ypredd))"
   ]
  },
  {
   "cell_type": "code",
   "execution_count": 62,
   "id": "be908047",
   "metadata": {},
   "outputs": [
    {
     "data": {
      "text/plain": [
       "Text(0, 0.5, 'Error Rate')"
      ]
     },
     "execution_count": 62,
     "metadata": {},
     "output_type": "execute_result"
    },
    {
     "data": {
      "image/png": "[encoded data removed]",
      "text/plain": [
       "<Figure size 720x432 with 1 Axes>"
      ]
     },
     "metadata": {
      "needs_background": "light"
     },
     "output_type": "display_data"
    }
   ],
   "source": [
    "plt.figure(figsize=(10,6))\n",
    "plt.plot(range(1,20),error_rate,color='blue', linestyle='dashed', marker='o',\n",
    "         markerfacecolor='red', markersize=10)\n",
    "plt.title('Error Rate vs. K Value')\n",
    "plt.xlabel('K')\n",
    "plt.ylabel('Error Rate')"
   ]
  },
  {
   "cell_type": "code",
   "execution_count": 63,
   "id": "7ecc2290",
   "metadata": {},
   "outputs": [
    {
     "name": "stdout",
     "output_type": "stream",
     "text": [
      "LR fitted\n"
     ]
    },
    {
     "data": {
      "text/plain": [
       "[LogisticRegression(),\n",
       " KNeighborsClassifier(),\n",
       " DecisionTreeClassifier(),\n",
       " RandomForestClassifier(),\n",
       " SGDClassifier(penalty='elasticnet'),\n",
       " GaussianNB(),\n",
       " MultinomialNB(),\n",
       " CategoricalNB(),\n",
       " BernoulliNB(),\n",
       " ComplementNB()]"
      ]
     },
     "execution_count": 63,
     "metadata": {},
     "output_type": "execute_result"
    }
   ],
   "source": [
    "#def build_models(X,y):\n",
    "models=[]\n",
    "\n",
    "\n",
    " \n",
    "lr = LogisticRegression()\n",
    "lr.fit(X_train,y_train)\n",
    "print(\"LR fitted\")   \n",
    "models.append(lr)\n",
    "\n",
    "knn=KNeighborsClassifier()\n",
    "knn.fit(X_train,y_train)\n",
    "models.append(knn)\n",
    "\n",
    "dtree=DecisionTreeClassifier()\n",
    "dtree.fit(X_train,y_train)\n",
    "models.append(dtree)\n",
    "\n",
    "rf=RandomForestClassifier()\n",
    "rf.fit(X_train,y_train)\n",
    "models.append(rf)\n",
    "    \n",
    "SGDClf = SGDClassifier(max_iter = 1000, tol=1e-3,penalty = \"elasticnet\")\n",
    "SGDClf.fit(X_train,y_train)\n",
    "models.append(SGDClf)\n",
    "\n",
    "gnb=GaussianNB()\n",
    "gnb.fit(X_train,y_train)\n",
    "models.append(gnb)\n",
    "\n",
    "mnb=MultinomialNB()\n",
    "mnb.fit(X_train,y_train)\n",
    "models.append(mnb)\n",
    "\n",
    "cnb=CategoricalNB()\n",
    "cnb.fit(X_train,y_train)\n",
    "models.append(cnb)\n",
    "\n",
    "bnb=BernoulliNB()\n",
    "bnb.fit(X_train,y_train)\n",
    "models.append(bnb)\n",
    "\n",
    "complement_nb=ComplementNB()\n",
    "complement_nb.fit(X_train,y_train)\n",
    "models.append(complement_nb)\n",
    "    #return models\n",
    "models"
   ]
  },
  {
   "cell_type": "code",
   "execution_count": 64,
   "id": "d758725e",
   "metadata": {},
   "outputs": [],
   "source": [
    "from sklearn.metrics import confusion_matrix,accuracy_score,f1_score,classification_report"
   ]
  },
  {
   "cell_type": "code",
   "execution_count": 67,
   "id": "e69b4b4d",
   "metadata": {},
   "outputs": [],
   "source": [
    "def model_evaluatio(models,X_test,y_test):\n",
    "    \n",
    "    model_nm = ['LogisticsRegression','KNN','Decision_Tree','Random_Forest','SGD_Classifier','GaussianNB','MultinomialNB','CategoricalNB','BernoulliNB','ComplementNB']\n",
    "    metrics = ['Precision','Recall','F1 score']\n",
    "    indx=pd.MultiIndex.from_product([model_nm, metrics],\n",
    "                           names=['Models', 'Metrics'])\n",
    "    output_df=pd.DataFrame(index=indx,columns=['Is_Churn','Not Churn','macro avg','weighted avg'])\n",
    "    dict_report={}\n",
    "    for nm,model in zip(model_nm,models):\n",
    "        #if nm!='CategoricalNB':\n",
    "        pred=model.predict(X_test)\n",
    "        dict_report=classification_report(y_test,pred,output_dict=True)\n",
    "        #print(nm)\n",
    "        #print(dict_report)\n",
    "        output_df.loc[nm,'Precision']['Is_Churn']=dict_report['1']['precision']\n",
    "        output_df.loc[nm,'Recall']['Is_Churn']=dict_report['1']['recall']\n",
    "        output_df.loc[nm,'F1 score']['Is_Churn']=dict_report['1']['f1-score']\n",
    "\n",
    "        output_df.loc[nm,'Precision']['Not Churn']=dict_report['0']['precision']\n",
    "        output_df.loc[nm,'Recall']['Not Churn']=dict_report['0']['recall']\n",
    "        output_df.loc[nm,'F1 score']['Not Churn']=dict_report['0']['f1-score']\n",
    "\n",
    "        output_df.loc[nm,'Precision']['macro avg']=dict_report['macro avg']['precision']\n",
    "        output_df.loc[nm,'Recall']['macro avg']=dict_report['macro avg']['recall']\n",
    "        output_df.loc[nm,'F1 score']['macro avg']=dict_report['macro avg']['f1-score']\n",
    "\n",
    "        output_df.loc[nm,'Precision']['weighted avg']=dict_report['weighted avg']['precision']\n",
    "        output_df.loc[nm,'Recall']['weighted avg']=dict_report['weighted avg']['recall']\n",
    "        output_df.loc[nm,'F1 score']['weighted avg']=dict_report['weighted avg']['f1-score']\n",
    "\n",
    "    return output_df\n",
    "        \n",
    "        "
   ]
  },
  {
   "cell_type": "code",
   "execution_count": 68,
   "id": "828d1423",
   "metadata": {},
   "outputs": [
    {
     "name": "stderr",
     "output_type": "stream",
     "text": [
      "C:\\Users\\shiva\\AppData\\Roaming\\Python\\Python38\\site-packages\\sklearn\\metrics\\_classification.py:1221: UndefinedMetricWarning: Precision and F-score are ill-defined and being set to 0.0 in labels with no predicted samples. Use `zero_division` parameter to control this behavior.\n",
      "  _warn_prf(average, modifier, msg_start, len(result))\n"
     ]
    },
    {
     "data": {
      "text/html": [
       "<div>\n",
       "<style scoped>\n",
       "    .dataframe tbody tr th:only-of-type {\n",
       "        vertical-align: middle;\n",
       "    }\n",
       "\n",
       "    .dataframe tbody tr th {\n",
       "        vertical-align: top;\n",
       "    }\n",
       "\n",
       "    .dataframe thead th {\n",
       "        text-align: right;\n",
       "    }\n",
       "</style>\n",
       "<table border=\"1\" class=\"dataframe\">\n",
       "  <thead>\n",
       "    <tr style=\"text-align: right;\">\n",
       "      <th></th>\n",
       "      <th></th>\n",
       "      <th>Is_Churn</th>\n",
       "      <th>Not Churn</th>\n",
       "      <th>macro avg</th>\n",
       "      <th>weighted avg</th>\n",
       "    </tr>\n",
       "    <tr>\n",
       "      <th>Models</th>\n",
       "      <th>Metrics</th>\n",
       "      <th></th>\n",
       "      <th></th>\n",
       "      <th></th>\n",
       "      <th></th>\n",
       "    </tr>\n",
       "  </thead>\n",
       "  <tbody>\n",
       "    <tr>\n",
       "      <th rowspan=\"3\" valign=\"top\">LogisticsRegression</th>\n",
       "      <th>Precision</th>\n",
       "      <td>0.508096</td>\n",
       "      <td>0.538532</td>\n",
       "      <td>0.523314</td>\n",
       "      <td>0.523526</td>\n",
       "    </tr>\n",
       "    <tr>\n",
       "      <th>Recall</th>\n",
       "      <td>0.697716</td>\n",
       "      <td>0.343074</td>\n",
       "      <td>0.520395</td>\n",
       "      <td>0.517926</td>\n",
       "    </tr>\n",
       "    <tr>\n",
       "      <th>F1 score</th>\n",
       "      <td>0.587997</td>\n",
       "      <td>0.419136</td>\n",
       "      <td>0.503566</td>\n",
       "      <td>0.502391</td>\n",
       "    </tr>\n",
       "    <tr>\n",
       "      <th rowspan=\"3\" valign=\"top\">KNN</th>\n",
       "      <th>Precision</th>\n",
       "      <td>0.61724</td>\n",
       "      <td>0.676718</td>\n",
       "      <td>0.646979</td>\n",
       "      <td>0.647393</td>\n",
       "    </tr>\n",
       "    <tr>\n",
       "      <th>Recall</th>\n",
       "      <td>0.722957</td>\n",
       "      <td>0.563998</td>\n",
       "      <td>0.643477</td>\n",
       "      <td>0.64237</td>\n",
       "    </tr>\n",
       "    <tr>\n",
       "      <th>F1 score</th>\n",
       "      <td>0.665929</td>\n",
       "      <td>0.615237</td>\n",
       "      <td>0.640583</td>\n",
       "      <td>0.64023</td>\n",
       "    </tr>\n",
       "    <tr>\n",
       "      <th rowspan=\"3\" valign=\"top\">Decision_Tree</th>\n",
       "      <th>Precision</th>\n",
       "      <td>0.770264</td>\n",
       "      <td>0.915689</td>\n",
       "      <td>0.842976</td>\n",
       "      <td>0.843989</td>\n",
       "    </tr>\n",
       "    <tr>\n",
       "      <th>Recall</th>\n",
       "      <td>0.930889</td>\n",
       "      <td>0.729982</td>\n",
       "      <td>0.830436</td>\n",
       "      <td>0.829037</td>\n",
       "    </tr>\n",
       "    <tr>\n",
       "      <th>F1 score</th>\n",
       "      <td>0.842993</td>\n",
       "      <td>0.812358</td>\n",
       "      <td>0.827675</td>\n",
       "      <td>0.827462</td>\n",
       "    </tr>\n",
       "    <tr>\n",
       "      <th rowspan=\"3\" valign=\"top\">Random_Forest</th>\n",
       "      <th>Precision</th>\n",
       "      <td>0.846927</td>\n",
       "      <td>0.906625</td>\n",
       "      <td>0.876776</td>\n",
       "      <td>0.877192</td>\n",
       "    </tr>\n",
       "    <tr>\n",
       "      <th>Recall</th>\n",
       "      <td>0.911058</td>\n",
       "      <td>0.83986</td>\n",
       "      <td>0.875459</td>\n",
       "      <td>0.874963</td>\n",
       "    </tr>\n",
       "    <tr>\n",
       "      <th>F1 score</th>\n",
       "      <td>0.877823</td>\n",
       "      <td>0.871966</td>\n",
       "      <td>0.874894</td>\n",
       "      <td>0.874854</td>\n",
       "    </tr>\n",
       "    <tr>\n",
       "      <th rowspan=\"3\" valign=\"top\">SGD_Classifier</th>\n",
       "      <th>Precision</th>\n",
       "      <td>0.0</td>\n",
       "      <td>0.506963</td>\n",
       "      <td>0.253481</td>\n",
       "      <td>0.257011</td>\n",
       "    </tr>\n",
       "    <tr>\n",
       "      <th>Recall</th>\n",
       "      <td>0.0</td>\n",
       "      <td>1.0</td>\n",
       "      <td>0.5</td>\n",
       "      <td>0.506963</td>\n",
       "    </tr>\n",
       "    <tr>\n",
       "      <th>F1 score</th>\n",
       "      <td>0.0</td>\n",
       "      <td>0.672827</td>\n",
       "      <td>0.336414</td>\n",
       "      <td>0.341099</td>\n",
       "    </tr>\n",
       "    <tr>\n",
       "      <th rowspan=\"3\" valign=\"top\">GaussianNB</th>\n",
       "      <th>Precision</th>\n",
       "      <td>0.588276</td>\n",
       "      <td>0.578701</td>\n",
       "      <td>0.583489</td>\n",
       "      <td>0.583422</td>\n",
       "    </tr>\n",
       "    <tr>\n",
       "      <th>Recall</th>\n",
       "      <td>0.51262</td>\n",
       "      <td>0.651081</td>\n",
       "      <td>0.581851</td>\n",
       "      <td>0.582815</td>\n",
       "    </tr>\n",
       "    <tr>\n",
       "      <th>F1 score</th>\n",
       "      <td>0.547848</td>\n",
       "      <td>0.612761</td>\n",
       "      <td>0.580305</td>\n",
       "      <td>0.580757</td>\n",
       "    </tr>\n",
       "    <tr>\n",
       "      <th rowspan=\"3\" valign=\"top\">MultinomialNB</th>\n",
       "      <th>Precision</th>\n",
       "      <td>0.510191</td>\n",
       "      <td>0.522779</td>\n",
       "      <td>0.516485</td>\n",
       "      <td>0.516573</td>\n",
       "    </tr>\n",
       "    <tr>\n",
       "      <th>Recall</th>\n",
       "      <td>0.496394</td>\n",
       "      <td>0.536528</td>\n",
       "      <td>0.516461</td>\n",
       "      <td>0.516741</td>\n",
       "    </tr>\n",
       "    <tr>\n",
       "      <th>F1 score</th>\n",
       "      <td>0.503198</td>\n",
       "      <td>0.529564</td>\n",
       "      <td>0.516381</td>\n",
       "      <td>0.516565</td>\n",
       "    </tr>\n",
       "    <tr>\n",
       "      <th rowspan=\"3\" valign=\"top\">CategoricalNB</th>\n",
       "      <th>Precision</th>\n",
       "      <td>0.68446</td>\n",
       "      <td>0.929658</td>\n",
       "      <td>0.807059</td>\n",
       "      <td>0.808766</td>\n",
       "    </tr>\n",
       "    <tr>\n",
       "      <th>Recall</th>\n",
       "      <td>0.955529</td>\n",
       "      <td>0.571596</td>\n",
       "      <td>0.763562</td>\n",
       "      <td>0.760889</td>\n",
       "    </tr>\n",
       "    <tr>\n",
       "      <th>F1 score</th>\n",
       "      <td>0.797592</td>\n",
       "      <td>0.707926</td>\n",
       "      <td>0.752759</td>\n",
       "      <td>0.752135</td>\n",
       "    </tr>\n",
       "    <tr>\n",
       "      <th rowspan=\"3\" valign=\"top\">BernoulliNB</th>\n",
       "      <th>Precision</th>\n",
       "      <td>0.505208</td>\n",
       "      <td>0.523024</td>\n",
       "      <td>0.514116</td>\n",
       "      <td>0.51424</td>\n",
       "    </tr>\n",
       "    <tr>\n",
       "      <th>Recall</th>\n",
       "      <td>0.582933</td>\n",
       "      <td>0.444769</td>\n",
       "      <td>0.513851</td>\n",
       "      <td>0.512889</td>\n",
       "    </tr>\n",
       "    <tr>\n",
       "      <th>F1 score</th>\n",
       "      <td>0.541295</td>\n",
       "      <td>0.480733</td>\n",
       "      <td>0.511014</td>\n",
       "      <td>0.510592</td>\n",
       "    </tr>\n",
       "    <tr>\n",
       "      <th rowspan=\"3\" valign=\"top\">ComplementNB</th>\n",
       "      <th>Precision</th>\n",
       "      <td>0.510191</td>\n",
       "      <td>0.522779</td>\n",
       "      <td>0.516485</td>\n",
       "      <td>0.516573</td>\n",
       "    </tr>\n",
       "    <tr>\n",
       "      <th>Recall</th>\n",
       "      <td>0.496394</td>\n",
       "      <td>0.536528</td>\n",
       "      <td>0.516461</td>\n",
       "      <td>0.516741</td>\n",
       "    </tr>\n",
       "    <tr>\n",
       "      <th>F1 score</th>\n",
       "      <td>0.503198</td>\n",
       "      <td>0.529564</td>\n",
       "      <td>0.516381</td>\n",
       "      <td>0.516565</td>\n",
       "    </tr>\n",
       "  </tbody>\n",
       "</table>\n",
       "</div>"
      ],
      "text/plain": [
       "                               Is_Churn Not Churn macro avg weighted avg\n",
       "Models              Metrics                                             \n",
       "LogisticsRegression Precision  0.508096  0.538532  0.523314     0.523526\n",
       "                    Recall     0.697716  0.343074  0.520395     0.517926\n",
       "                    F1 score   0.587997  0.419136  0.503566     0.502391\n",
       "KNN                 Precision   0.61724  0.676718  0.646979     0.647393\n",
       "                    Recall     0.722957  0.563998  0.643477      0.64237\n",
       "                    F1 score   0.665929  0.615237  0.640583      0.64023\n",
       "Decision_Tree       Precision  0.770264  0.915689  0.842976     0.843989\n",
       "                    Recall     0.930889  0.729982  0.830436     0.829037\n",
       "                    F1 score   0.842993  0.812358  0.827675     0.827462\n",
       "Random_Forest       Precision  0.846927  0.906625  0.876776     0.877192\n",
       "                    Recall     0.911058   0.83986  0.875459     0.874963\n",
       "                    F1 score   0.877823  0.871966  0.874894     0.874854\n",
       "SGD_Classifier      Precision       0.0  0.506963  0.253481     0.257011\n",
       "                    Recall          0.0       1.0       0.5     0.506963\n",
       "                    F1 score        0.0  0.672827  0.336414     0.341099\n",
       "GaussianNB          Precision  0.588276  0.578701  0.583489     0.583422\n",
       "                    Recall      0.51262  0.651081  0.581851     0.582815\n",
       "                    F1 score   0.547848  0.612761  0.580305     0.580757\n",
       "MultinomialNB       Precision  0.510191  0.522779  0.516485     0.516573\n",
       "                    Recall     0.496394  0.536528  0.516461     0.516741\n",
       "                    F1 score   0.503198  0.529564  0.516381     0.516565\n",
       "CategoricalNB       Precision   0.68446  0.929658  0.807059     0.808766\n",
       "                    Recall     0.955529  0.571596  0.763562     0.760889\n",
       "                    F1 score   0.797592  0.707926  0.752759     0.752135\n",
       "BernoulliNB         Precision  0.505208  0.523024  0.514116      0.51424\n",
       "                    Recall     0.582933  0.444769  0.513851     0.512889\n",
       "                    F1 score   0.541295  0.480733  0.511014     0.510592\n",
       "ComplementNB        Precision  0.510191  0.522779  0.516485     0.516573\n",
       "                    Recall     0.496394  0.536528  0.516461     0.516741\n",
       "                    F1 score   0.503198  0.529564  0.516381     0.516565"
      ]
     },
     "execution_count": 68,
     "metadata": {},
     "output_type": "execute_result"
    }
   ],
   "source": [
    "output_df=model_evaluatio(models,X_test,y_test)\n",
    "output_df"
   ]
  },
  {
   "cell_type": "code",
   "execution_count": null,
   "id": "846e9bee",
   "metadata": {},
   "outputs": [],
   "source": []
  },
  {
   "cell_type": "markdown",
   "id": "a28841d6",
   "metadata": {},
   "source": [
    "### test.csv"
   ]
  },
  {
   "cell_type": "code",
   "execution_count": 69,
   "id": "1fad318a",
   "metadata": {},
   "outputs": [],
   "source": [
    "df_test_data=pd.read_csv('test_lTY72QC.csv')"
   ]
  },
  {
   "cell_type": "code",
   "execution_count": 70,
   "id": "b4120c49",
   "metadata": {},
   "outputs": [
    {
     "data": {
      "text/plain": [
       "(2851, 10)"
      ]
     },
     "execution_count": 70,
     "metadata": {},
     "output_type": "execute_result"
    }
   ],
   "source": [
    "df_test_data.shape"
   ]
  },
  {
   "cell_type": "code",
   "execution_count": 71,
   "id": "ea6a1751",
   "metadata": {},
   "outputs": [],
   "source": [
    "df_test_data['Gender']=df_test_data['Gender'].map({'Female':1,'Male':0})\n",
    "df_test_data['Income']=df_test_data['Income'].map({'Less than 5L':1,'5L - 10L':2,'10L - 15L':3,'More than 15L':4})\n",
    "df_test_data['Product_Holdings']=df_test_data['Product_Holdings'].map({'1':1,'2':2,'3+':3})\n",
    "df_test_data['Credit_Category']=df_test_data['Credit_Category'].map({'Poor':1,'Average':2,'Good':3})"
   ]
  },
  {
   "cell_type": "code",
   "execution_count": 72,
   "id": "df3c5eaa",
   "metadata": {},
   "outputs": [],
   "source": [
    "from sklearn.preprocessing import LabelEncoder\n",
    "le_test=LabelEncoder()"
   ]
  },
  {
   "cell_type": "code",
   "execution_count": 73,
   "id": "1d656b5f",
   "metadata": {},
   "outputs": [
    {
     "data": {
      "text/plain": [
       "LabelEncoder()"
      ]
     },
     "execution_count": 73,
     "metadata": {},
     "output_type": "execute_result"
    }
   ],
   "source": [
    "le_test.fit(df_test_data['ID'])"
   ]
  },
  {
   "cell_type": "code",
   "execution_count": 74,
   "id": "df7d44e7",
   "metadata": {},
   "outputs": [],
   "source": [
    "df_test_data['ID']=le_test.transform(df_test_data['ID'])"
   ]
  },
  {
   "cell_type": "code",
   "execution_count": 75,
   "id": "393dbd44",
   "metadata": {},
   "outputs": [
    {
     "data": {
      "text/plain": [
       "0        964\n",
       "1       1745\n",
       "2       1856\n",
       "3       1991\n",
       "4       2448\n",
       "        ... \n",
       "2846     280\n",
       "2847     930\n",
       "2848    2756\n",
       "2849    2683\n",
       "2850     598\n",
       "Name: ID, Length: 2851, dtype: int32"
      ]
     },
     "execution_count": 75,
     "metadata": {},
     "output_type": "execute_result"
    }
   ],
   "source": [
    "df_test_data['ID']"
   ]
  },
  {
   "cell_type": "code",
   "execution_count": 76,
   "id": "7ddd42d0",
   "metadata": {},
   "outputs": [],
   "source": [
    "df_test_data.drop(['Gender','Transaction_Status'],axis=1,inplace=True)"
   ]
  },
  {
   "cell_type": "code",
   "execution_count": 90,
   "id": "20fb0c72",
   "metadata": {},
   "outputs": [],
   "source": [
    "#y_pred=rf.predict(df_test_data)"
   ]
  },
  {
   "cell_type": "code",
   "execution_count": 100,
   "id": "981867d2",
   "metadata": {},
   "outputs": [],
   "source": [
    "y_pred=gnb.predict(df_test_data)"
   ]
  },
  {
   "cell_type": "code",
   "execution_count": null,
   "id": "4ba745b7",
   "metadata": {},
   "outputs": [],
   "source": []
  },
  {
   "cell_type": "code",
   "execution_count": 78,
   "id": "3765ecf6",
   "metadata": {},
   "outputs": [],
   "source": [
    "output=pd.DataFrame()"
   ]
  },
  {
   "cell_type": "code",
   "execution_count": 79,
   "id": "1597e46f",
   "metadata": {},
   "outputs": [],
   "source": [
    "ID=le_test.inverse_transform(df_test_data['ID'])"
   ]
  },
  {
   "cell_type": "code",
   "execution_count": 80,
   "id": "a424c8dd",
   "metadata": {},
   "outputs": [
    {
     "data": {
      "text/plain": [
       "array(['55480787', '9aededf2', 'a5034a09', ..., 'f708121b', 'f008715d',\n",
       "       '36b81f59'], dtype=object)"
      ]
     },
     "execution_count": 80,
     "metadata": {},
     "output_type": "execute_result"
    }
   ],
   "source": [
    "ID"
   ]
  },
  {
   "cell_type": "code",
   "execution_count": 101,
   "id": "a73936d9",
   "metadata": {},
   "outputs": [],
   "source": [
    "output['ID']=ID\n",
    "output['Is_Churn']=y_pred"
   ]
  },
  {
   "cell_type": "code",
   "execution_count": 102,
   "id": "9e3d44c7",
   "metadata": {},
   "outputs": [
    {
     "data": {
      "text/html": [
       "<div>\n",
       "<style scoped>\n",
       "    .dataframe tbody tr th:only-of-type {\n",
       "        vertical-align: middle;\n",
       "    }\n",
       "\n",
       "    .dataframe tbody tr th {\n",
       "        vertical-align: top;\n",
       "    }\n",
       "\n",
       "    .dataframe thead th {\n",
       "        text-align: right;\n",
       "    }\n",
       "</style>\n",
       "<table border=\"1\" class=\"dataframe\">\n",
       "  <thead>\n",
       "    <tr style=\"text-align: right;\">\n",
       "      <th></th>\n",
       "      <th>ID</th>\n",
       "      <th>Is_Churn</th>\n",
       "    </tr>\n",
       "  </thead>\n",
       "  <tbody>\n",
       "    <tr>\n",
       "      <th>0</th>\n",
       "      <td>55480787</td>\n",
       "      <td>1</td>\n",
       "    </tr>\n",
       "    <tr>\n",
       "      <th>1</th>\n",
       "      <td>9aededf2</td>\n",
       "      <td>0</td>\n",
       "    </tr>\n",
       "    <tr>\n",
       "      <th>2</th>\n",
       "      <td>a5034a09</td>\n",
       "      <td>0</td>\n",
       "    </tr>\n",
       "    <tr>\n",
       "      <th>3</th>\n",
       "      <td>b3256702</td>\n",
       "      <td>0</td>\n",
       "    </tr>\n",
       "    <tr>\n",
       "      <th>4</th>\n",
       "      <td>dc28adb5</td>\n",
       "      <td>1</td>\n",
       "    </tr>\n",
       "    <tr>\n",
       "      <th>...</th>\n",
       "      <td>...</td>\n",
       "      <td>...</td>\n",
       "    </tr>\n",
       "    <tr>\n",
       "      <th>2846</th>\n",
       "      <td>19e40adf</td>\n",
       "      <td>1</td>\n",
       "    </tr>\n",
       "    <tr>\n",
       "      <th>2847</th>\n",
       "      <td>52d5bc8d</td>\n",
       "      <td>1</td>\n",
       "    </tr>\n",
       "    <tr>\n",
       "      <th>2848</th>\n",
       "      <td>f708121b</td>\n",
       "      <td>1</td>\n",
       "    </tr>\n",
       "    <tr>\n",
       "      <th>2849</th>\n",
       "      <td>f008715d</td>\n",
       "      <td>1</td>\n",
       "    </tr>\n",
       "    <tr>\n",
       "      <th>2850</th>\n",
       "      <td>36b81f59</td>\n",
       "      <td>1</td>\n",
       "    </tr>\n",
       "  </tbody>\n",
       "</table>\n",
       "<p>2851 rows × 2 columns</p>\n",
       "</div>"
      ],
      "text/plain": [
       "            ID  Is_Churn\n",
       "0     55480787         1\n",
       "1     9aededf2         0\n",
       "2     a5034a09         0\n",
       "3     b3256702         0\n",
       "4     dc28adb5         1\n",
       "...        ...       ...\n",
       "2846  19e40adf         1\n",
       "2847  52d5bc8d         1\n",
       "2848  f708121b         1\n",
       "2849  f008715d         1\n",
       "2850  36b81f59         1\n",
       "\n",
       "[2851 rows x 2 columns]"
      ]
     },
     "execution_count": 102,
     "metadata": {},
     "output_type": "execute_result"
    }
   ],
   "source": [
    "output"
   ]
  },
  {
   "cell_type": "code",
   "execution_count": 103,
   "id": "6cb4c072",
   "metadata": {},
   "outputs": [
    {
     "data": {
      "text/plain": [
       "0"
      ]
     },
     "execution_count": 103,
     "metadata": {},
     "output_type": "execute_result"
    }
   ],
   "source": [
    "count=0\n",
    "list(y_pred)\n",
    "for i in y_pred:\n",
    "    if i<0:\n",
    "        count+=1\n",
    "count"
   ]
  },
  {
   "cell_type": "code",
   "execution_count": 104,
   "id": "3bf48537",
   "metadata": {},
   "outputs": [],
   "source": [
    "output.to_csv('Final_result.csv',index=False)"
   ]
  },
  {
   "cell_type": "code",
   "execution_count": null,
   "id": "1c9e116a",
   "metadata": {},
   "outputs": [],
   "source": []
  },
  {
   "cell_type": "code",
   "execution_count": null,
   "id": "2c33fb9b",
   "metadata": {},
   "outputs": [],
   "source": []
  }
 ],
 "metadata": {
  "kernelspec": {
   "display_name": "Python 3",
   "language": "python",
   "name": "python3"
  },
  "language_info": {
   "codemirror_mode": {
    "name": "ipython",
    "version": 3
   },
   "file_extension": ".py",
   "mimetype": "text/x-python",
   "name": "python",
   "nbconvert_exporter": "python",
   "pygments_lexer": "ipython3",
   "version": "3.8.8"
  }
 },
 "nbformat": 4,
 "nbformat_minor": 5
}
